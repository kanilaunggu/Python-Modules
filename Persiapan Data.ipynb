{
 "cells": [
  {
   "cell_type": "markdown",
   "id": "pregnant-label",
   "metadata": {},
   "source": [
    "#### CSV dan Data"
   ]
  },
  {
   "cell_type": "code",
   "execution_count": 1,
   "id": "written-bulgaria",
   "metadata": {},
   "outputs": [],
   "source": [
    "# Khusus Buat File CSV\n",
    "import numpy as np\n",
    "import pandas as pd"
   ]
  },
  {
   "cell_type": "code",
   "execution_count": 2,
   "id": "latter-cosmetic",
   "metadata": {},
   "outputs": [],
   "source": [
    "headernya='label,0.1,02,0.3'\n",
    "arr2D = np.array([ [0, 12, 13, 22],\n",
    "                   [0, 7, 23, 14],\n",
    "                   [0, 10, 33, 7],\n",
    "                   [0, 7, 23, 14],\n",
    "                   [0, 10, 33, 7],\n",
    "                   [0, 7, 23, 14],\n",
    "                   [0, 10, 33, 7],\n",
    "                   [0, 7, 23, 14],\n",
    "                   [0, 10, 33, 7],\n",
    "                   [0, 7, 23, 14],\n",
    "                   [0, 10, 33, 7],\n",
    "                   [0, 7, 23, 14],\n",
    "                   [0, 10, 33, 7],\n",
    "                   [1, 7, 23, 14],\n",
    "                   [1, 10, 33, 7],\n",
    "                   [1, 7, 23, 14],\n",
    "                   [1, 10, 33, 7],\n",
    "                   [1, 7, 23, 14],\n",
    "                   [1, 10, 33, 7],\n",
    "                   [2, 7, 23, 14],\n",
    "                   [2, 10, 33, 7],\n",
    "                   [2, 7, 23, 14],\n",
    "                   [2, 10, 33, 7],\n",
    "                   [2, 7, 23, 14],\n",
    "                   [2, 10, 33, 7],\n",
    "                   [2, 7, 23, 14],\n",
    "                   [3, 10, 33, 7],\n",
    "                   [3, 7, 23, 14],\n",
    "                   [3, 10, 33, 7],\n",
    "                   [3, 7, 23, 14],\n",
    "                   [3, 10, 33, 7],\n",
    "                   [3, 7, 23, 14],\n",
    "                   [3, 10, 33, 7],\n",
    "                   [3, 7, 23, 14],\n",
    "                   [3, 10, 33, 7],\n",
    "                 ])"
   ]
  },
  {
   "cell_type": "code",
   "execution_count": 3,
   "id": "mounted-nelson",
   "metadata": {},
   "outputs": [],
   "source": [
    "# Save 2D numpy array to csv file\n",
    "np.savetxt('2darray.csv', arr2D, delimiter=',', header = headernya ,fmt='%d')"
   ]
  },
  {
   "cell_type": "code",
   "execution_count": 23,
   "id": "present-classification",
   "metadata": {},
   "outputs": [
    {
     "name": "stdout",
     "output_type": "stream",
     "text": [
      "    # label  0.1  02  0.3\n",
      "0         0   12  13   22\n",
      "1         0    7  23   14\n",
      "2         0   10  33    7\n",
      "3         0    7  23   14\n",
      "4         0   10  33    7\n",
      "5         0    7  23   14\n",
      "6         0   10  33    7\n",
      "7         0    7  23   14\n",
      "8         0   10  33    7\n",
      "9         0    7  23   14\n",
      "10        0   10  33    7\n",
      "11        0    7  23   14\n",
      "12        0   10  33    7\n",
      "13        1    7  23   14\n",
      "14        1   10  33    7\n",
      "15        1    7  23   14\n",
      "16        1   10  33    7\n",
      "17        1    7  23   14\n",
      "18        1   10  33    7\n",
      "19        2    7  23   14\n",
      "20        2   10  33    7\n",
      "21        2    7  23   14\n",
      "22        2   10  33    7\n",
      "23        2    7  23   14\n",
      "24        2   10  33    7\n",
      "25        2    7  23   14\n",
      "26        3   10  33    7\n",
      "27        3    7  23   14\n",
      "28        3   10  33    7\n",
      "29        3    7  23   14\n",
      "30        3   10  33    7\n",
      "31        3    7  23   14\n",
      "32        3   10  33    7\n",
      "33        3    7  23   14\n",
      "34        3   10  33    7\n"
     ]
    }
   ],
   "source": [
    "#data45 = np.genfromtxt('2darray.csv', delimiter = ',')\n",
    "#print(data45)\n",
    "data45 = pd.read_csv('2darray.csv').astype('int')\n",
    "data45.rename(columns={'0':'# label'}, inplace=True)\n",
    "print(data45)"
   ]
  },
  {
   "cell_type": "code",
   "execution_count": 24,
   "id": "happy-enterprise",
   "metadata": {},
   "outputs": [],
   "source": [
    "dx_kar = data45.drop('# label',axis = 1)\n",
    "dy_kar = data45['# label']"
   ]
  },
  {
   "cell_type": "code",
   "execution_count": 25,
   "id": "authorized-commitment",
   "metadata": {},
   "outputs": [],
   "source": [
    "from sklearn.model_selection import train_test_split\n",
    "dxds_train, dxds_test, dyds_train, dyds_test = train_test_split(dx_kar,dy_kar)"
   ]
  },
  {
   "cell_type": "code",
   "execution_count": 26,
   "id": "removed-instrumentation",
   "metadata": {},
   "outputs": [
    {
     "data": {
      "text/plain": [
       "((26, 3), (9, 3), (26,), (9,))"
      ]
     },
     "execution_count": 26,
     "metadata": {},
     "output_type": "execute_result"
    }
   ],
   "source": [
    "dxds_train.shape, dxds_test.shape, dyds_train.shape, dyds_test.shape"
   ]
  },
  {
   "cell_type": "code",
   "execution_count": 27,
   "id": "romance-seeker",
   "metadata": {},
   "outputs": [
    {
     "name": "stdout",
     "output_type": "stream",
     "text": [
      "    0.1  02  0.3\n",
      "23    7  23   14\n",
      "11    7  23   14\n",
      "9     7  23   14\n",
      "26   10  33    7\n",
      "27    7  23   14\n",
      "33    7  23   14\n",
      "12   10  33    7\n",
      "17    7  23   14\n",
      "24   10  33    7\n",
      "34   10  33    7\n",
      "30   10  33    7\n",
      "4    10  33    7\n",
      "7     7  23   14\n",
      "2    10  33    7\n",
      "29    7  23   14\n",
      "19    7  23   14\n",
      "28   10  33    7\n",
      "31    7  23   14\n",
      "20   10  33    7\n",
      "15    7  23   14\n",
      "0    12  13   22\n",
      "5     7  23   14\n",
      "13    7  23   14\n",
      "6    10  33    7\n",
      "16   10  33    7\n",
      "14   10  33    7\n"
     ]
    }
   ],
   "source": [
    "print(dxds_train)"
   ]
  },
  {
   "cell_type": "code",
   "execution_count": 28,
   "id": "august-paper",
   "metadata": {},
   "outputs": [
    {
     "data": {
      "text/plain": [
       "MinMaxScaler()"
      ]
     },
     "execution_count": 28,
     "metadata": {},
     "output_type": "execute_result"
    }
   ],
   "source": [
    "from sklearn.preprocessing import MinMaxScaler\n",
    "standard_scaler = MinMaxScaler()\n",
    "standard_scaler.fit(dxds_train)"
   ]
  },
  {
   "cell_type": "code",
   "execution_count": 29,
   "id": "particular-airfare",
   "metadata": {},
   "outputs": [],
   "source": [
    "dxds_train = standard_scaler.transform(dxds_train)\n",
    "dxds_test  = standard_scaler.transform(dxds_test)"
   ]
  },
  {
   "cell_type": "code",
   "execution_count": 35,
   "id": "identified-angola",
   "metadata": {},
   "outputs": [
    {
     "name": "stdout",
     "output_type": "stream",
     "text": [
      "[[0.         0.5        0.46666667]\n",
      " [0.         0.5        0.46666667]\n",
      " [0.         0.5        0.46666667]\n",
      " [0.6        1.         0.        ]\n",
      " [0.         0.5        0.46666667]\n",
      " [0.         0.5        0.46666667]\n",
      " [0.6        1.         0.        ]\n",
      " [0.         0.5        0.46666667]\n",
      " [0.6        1.         0.        ]\n",
      " [0.6        1.         0.        ]\n",
      " [0.6        1.         0.        ]\n",
      " [0.6        1.         0.        ]\n",
      " [0.         0.5        0.46666667]\n",
      " [0.6        1.         0.        ]\n",
      " [0.         0.5        0.46666667]\n",
      " [0.         0.5        0.46666667]\n",
      " [0.6        1.         0.        ]\n",
      " [0.         0.5        0.46666667]\n",
      " [0.6        1.         0.        ]\n",
      " [0.         0.5        0.46666667]\n",
      " [1.         0.         1.        ]\n",
      " [0.         0.5        0.46666667]\n",
      " [0.         0.5        0.46666667]\n",
      " [0.6        1.         0.        ]\n",
      " [0.6        1.         0.        ]\n",
      " [0.6        1.         0.        ]]\n"
     ]
    }
   ],
   "source": [
    "print(dxds_train)"
   ]
  },
  {
   "cell_type": "code",
   "execution_count": 30,
   "id": "delayed-february",
   "metadata": {},
   "outputs": [],
   "source": [
    "dxds_train = dxds_train.reshape(dxds_train.shape[0], 1, 3).astype('float32')\n",
    "dxds_test  = dxds_test.reshape(dxds_test.shape[0], 1, 3).astype('float32')"
   ]
  },
  {
   "cell_type": "code",
   "execution_count": 31,
   "id": "animal-daniel",
   "metadata": {},
   "outputs": [
    {
     "data": {
      "text/plain": [
       "((26, 1, 3), (9, 1, 3), (26,), (9,))"
      ]
     },
     "execution_count": 31,
     "metadata": {},
     "output_type": "execute_result"
    }
   ],
   "source": [
    "dxds_train.shape, dxds_test.shape, dyds_train.shape, dyds_test.shape"
   ]
  },
  {
   "cell_type": "code",
   "execution_count": 32,
   "id": "local-juvenile",
   "metadata": {},
   "outputs": [],
   "source": [
    "dxds_train = dxds_train.reshape((-1, 3))"
   ]
  },
  {
   "cell_type": "code",
   "execution_count": 33,
   "id": "drawn-luther",
   "metadata": {},
   "outputs": [],
   "source": [
    "dxds_test = dxds_test.reshape((-1, 3))"
   ]
  },
  {
   "cell_type": "code",
   "execution_count": 34,
   "id": "powered-michael",
   "metadata": {},
   "outputs": [
    {
     "data": {
      "text/plain": [
       "((26, 3), (9, 3))"
      ]
     },
     "execution_count": 34,
     "metadata": {},
     "output_type": "execute_result"
    }
   ],
   "source": [
    "dxds_train.shape, dxds_test.shape"
   ]
  },
  {
   "cell_type": "code",
   "execution_count": 18,
   "id": "outer-custody",
   "metadata": {},
   "outputs": [],
   "source": [
    "import tensorflow as tf\n",
    "dyds_train = tf.keras.utils.to_categorical(dyds_train)\n",
    "dyds_test  = tf.keras.utils.to_categorical(dyds_test)"
   ]
  },
  {
   "cell_type": "code",
   "execution_count": 19,
   "id": "mounted-bangkok",
   "metadata": {},
   "outputs": [
    {
     "data": {
      "text/plain": [
       "((26, 3), (9, 3), (26, 4), (9, 4))"
      ]
     },
     "execution_count": 19,
     "metadata": {},
     "output_type": "execute_result"
    }
   ],
   "source": [
    "dxds_train.shape, dxds_test.shape, dyds_train.shape, dyds_test.shape"
   ]
  },
  {
   "cell_type": "code",
   "execution_count": 20,
   "id": "boxed-charger",
   "metadata": {},
   "outputs": [
    {
     "name": "stdout",
     "output_type": "stream",
     "text": [
      "0.0 - 1.0\n"
     ]
    }
   ],
   "source": [
    "print(dxds_train.min(), \"-\", dxds_train.max())"
   ]
  },
  {
   "cell_type": "code",
   "execution_count": 21,
   "id": "convinced-microphone",
   "metadata": {},
   "outputs": [
    {
     "name": "stdout",
     "output_type": "stream",
     "text": [
      "[[0.6        1.         0.        ]\n",
      " [0.         0.5        0.46666667]\n",
      " [0.6        1.         0.        ]\n",
      " [0.         0.5        0.46666667]\n",
      " [0.         0.5        0.46666667]\n",
      " [0.         0.5        0.46666667]\n",
      " [0.         0.5        0.46666667]\n",
      " [0.6        1.         0.        ]\n",
      " [0.         0.5        0.46666667]\n",
      " [0.         0.5        0.46666667]\n",
      " [0.6        1.         0.        ]\n",
      " [0.         0.5        0.46666667]\n",
      " [0.6        1.         0.        ]\n",
      " [0.         0.5        0.46666667]\n",
      " [0.6        1.         0.        ]\n",
      " [0.6        1.         0.        ]\n",
      " [0.         0.5        0.46666667]\n",
      " [0.         0.5        0.46666667]\n",
      " [0.6        1.         0.        ]\n",
      " [0.6        1.         0.        ]\n",
      " [0.         0.5        0.46666667]\n",
      " [0.6        1.         0.        ]\n",
      " [0.         0.5        0.46666667]\n",
      " [0.6        1.         0.        ]\n",
      " [0.6        1.         0.        ]\n",
      " [1.         0.         1.        ]]\n"
     ]
    }
   ],
   "source": [
    "print(dxds_train)"
   ]
  },
  {
   "cell_type": "code",
   "execution_count": null,
   "id": "mighty-tours",
   "metadata": {},
   "outputs": [],
   "source": []
  }
 ],
 "metadata": {
  "kernelspec": {
   "display_name": "Python 3",
   "language": "python",
   "name": "python3"
  },
  "language_info": {
   "codemirror_mode": {
    "name": "ipython",
    "version": 3
   },
   "file_extension": ".py",
   "mimetype": "text/x-python",
   "name": "python",
   "nbconvert_exporter": "python",
   "pygments_lexer": "ipython3",
   "version": "3.8.1"
  }
 },
 "nbformat": 4,
 "nbformat_minor": 5
}
